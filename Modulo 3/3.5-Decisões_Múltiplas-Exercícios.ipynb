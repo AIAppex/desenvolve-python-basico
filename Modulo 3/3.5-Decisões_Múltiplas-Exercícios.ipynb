{
 "cells": [
  {
   "cell_type": "markdown",
   "id": "559687a1",
   "metadata": {},
   "source": [
    "# Módulo 3 - Condicionais\n",
    "\n",
    "## 3.5 - Decisões Múltiplas"
   ]
  },
  {
   "cell_type": "markdown",
   "id": "42f823b3",
   "metadata": {},
   "source": [
    "### Q1.\n",
    "\n",
    "Vamos fazer uma calculadora! Escreva um programa que solicita 3 entradas: o primeiro operando (float), o operador (caracter) e o segundo operando (float). Seu programa deve imprimir o resultado da operação solicitada, entre soma (+), subtração (-), divisão (/), multiplicação (\\*) ou potência (\\*\\*). Seu programa também deve imprimir uma mensagem de erro se a operação solicitada não estiver dentre as opções disponíveis.\n",
    "\n",
    "Seguem alguns exemplos de interação com seu código no terminal. \n",
    "\n",
    "\n",
    "```\n",
    "Digite o primeiro operando: 5.2\n",
    "Digite o operador (+, -, /, *, **): *\n",
    "Digite o segundo operando` 3\n",
    "Resultado: 5.2 * 3.0 = 15.6\n",
    "```\n",
    "\n",
    "```\n",
    "Digite o primeiro operando: 8\n",
    "Digite o operador (+, -, /, *, **): **\n",
    "Digite o segundo operando: 2\n",
    "Resultado: 8.0 * 2.0 = 64.0\n",
    "```\n",
    "\n",
    "```\n",
    "Digite o primeiro operando: 7\n",
    "Digite o operador (+, -, /, *, **): %\n",
    "Digite o segundo operando: 3.4\n",
    "Erro! Operação inválida. \n",
    "```\n",
    "\n",
    "```\n",
    "Digite o primeiro operando: 10\n",
    "Digite o operador (+, -, /, *, **): /\n",
    "Digite o segundo operando: 2.5\n",
    "Resultado: 10.0 / 2.5 = 4.0\n",
    "```\n",
    "\n"
   ]
  },
  {
   "cell_type": "code",
   "execution_count": 1,
   "id": "c5b8cd4d",
   "metadata": {},
   "outputs": [
    {
     "name": "stdout",
     "output_type": "stream",
     "text": [
      "Resultado: 12.0 - 10.0 = 2.0\n"
     ]
    }
   ],
   "source": [
    "## Escreva e execute seu código aqui\n",
    "def calcular_operacao(operando1, operador, operando2):\n",
    "    try:\n",
    "        if operador == '+':\n",
    "            resultado = operando1 + operando2\n",
    "        elif operador == '-':\n",
    "            resultado = operando1 - operando2\n",
    "        elif operador == '*':\n",
    "            resultado = operando1 * operando2\n",
    "        elif operador == '/':\n",
    "            resultado = operando1 / operando2\n",
    "        elif operador == '**':\n",
    "            resultado = operando1 ** operando2\n",
    "        else:\n",
    "            print(\"Erro! Operação inválida.\")\n",
    "            return None\n",
    "        return resultado\n",
    "    except ZeroDivisionError:\n",
    "        print(\"Erro! Divisão por zero não é permitida.\")\n",
    "        return None\n",
    "\n",
    "\n",
    "try:\n",
    "    operando1 = float(input(\"Digite o primeiro operando: \"))\n",
    "    operador = input(\"Digite o operador (+, -, /, *, **): \")\n",
    "    operando2 = float(input(\"Digite o segundo operando: \"))\n",
    "except ValueError:\n",
    "    print(\"Erro! Entrada inválida. Certifique-se de inserir números válidos.\")\n",
    "\n",
    "\n",
    "resultado = calcular_operacao(operando1, operador, operando2)\n",
    "if resultado is not None:\n",
    "    print(\"Resultado: {} {} {} = {}\".format(operando1, operador, operando2, resultado))\n",
    "\n"
   ]
  },
  {
   "cell_type": "markdown",
   "id": "d135df39",
   "metadata": {},
   "source": [
    "### Q2.\n",
    "\n",
    "Escreva um programa que leia os comprimentos dos 3 lados de um triângulo e diga se o triângulo é equilátero, isóceles ou escaleno. Regras:\n",
    "- Isóceles: Quaisquer dois lados com o mesmo comprimento\n",
    "- Equilátero: Os três lados tem o mesmo comprimento\n",
    "- Escaleno: Três lados de comprimento diferente \n",
    "\n",
    "Note que a ordem das condições importa! Seguem alguns exemplos de interação com seu código no terminal. \n",
    "\n",
    "```\n",
    "Digite o comprimento do lado 1: 4\n",
    "Digite o comprimento do lado 2: 4\n",
    "Digite o comprimento do lado 3: 6\n",
    "Triângulo: Isóceles\n",
    "```\n",
    "\n",
    "```\n",
    "Digite o comprimento do lado 1: 5\n",
    "Digite o comprimento do lado 2: 5\n",
    "Digite o comprimento do lado 3: 5\n",
    "Triângulo: Equilátero\n",
    "```\n",
    "\n",
    "```\n",
    "Digite o comprimento do lado 1: 7\n",
    "Digite o comprimento do lado 2: 4\n",
    "Digite o comprimento do lado 3: 9\n",
    "Triângulo: Escaleno\n",
    "```\n",
    "\n"
   ]
  },
  {
   "cell_type": "code",
   "execution_count": 2,
   "id": "cfcf9a80",
   "metadata": {},
   "outputs": [
    {
     "name": "stdout",
     "output_type": "stream",
     "text": [
      "Triângulo: Equilátero\n"
     ]
    }
   ],
   "source": [
    "## Escreva e execute seu código aqui\n",
    "def verificar_tipo_triangulo(lado1, lado2, lado3):\n",
    "    if lado1 == lado2 == lado3:\n",
    "        return \"Equilátero\"\n",
    "    elif lado1 == lado2 or lado1 == lado3 or lado2 == lado3:\n",
    "        return \"Isóceles\"\n",
    "    else:\n",
    "        return \"Escaleno\"\n",
    "\n",
    "\n",
    "try:\n",
    "    lado1 = float(input(\"Digite o comprimento do lado 1: \"))\n",
    "    lado2 = float(input(\"Digite o comprimento do lado 2: \"))\n",
    "    lado3 = float(input(\"Digite o comprimento do lado 3: \"))\n",
    "except ValueError:\n",
    "    print(\"Erro! Insira valores numéricos válidos para os lados.\")\n",
    "\n",
    "\n",
    "tipo_triangulo = verificar_tipo_triangulo(lado1, lado2, lado3)\n",
    "print(\"Triângulo: {}\".format(tipo_triangulo))\n"
   ]
  },
  {
   "cell_type": "markdown",
   "id": "ed3405fb",
   "metadata": {},
   "source": [
    "### Q3.\n",
    "\n",
    "Você está desenvolvendo um sistema de avaliação de desempenho para um jogo. Escreva um programa em Python que avalia a pontuação do jogador em uma missão e atribui uma classificação com base nas seguintes condições:\n",
    "\n",
    "- Se a pontuação for menor que 70, atribua a classificação \"Insatisfatório\".\n",
    "- Se a pontuação for maior ou igual a 70, atribua a classificação \"Regular\".\n",
    "- Se a pontuação for maior ou igual a 80, atribua a classificação \"Bom\".\n",
    "- Se a pontuação for maior ou igual a 90, atribua a classificação \"Excelente\".\n",
    "\n",
    "Escreva um programa que solicita ao usuário a pontuação e imprime a classificação correspondente."
   ]
  },
  {
   "cell_type": "code",
   "execution_count": 3,
   "id": "a7a842ae",
   "metadata": {},
   "outputs": [
    {
     "name": "stdout",
     "output_type": "stream",
     "text": [
      "Classificação: Regular\n"
     ]
    }
   ],
   "source": [
    "## Escreva e execute seu código aqui\n",
    "def avaliar_desempenho(pontuacao):\n",
    "    if pontuacao < 70:\n",
    "        return \"Insatisfatório\"\n",
    "    elif pontuacao < 80:\n",
    "        return \"Regular\"\n",
    "    elif pontuacao < 90:\n",
    "        return \"Bom\"\n",
    "    else:\n",
    "        return \"Excelente\"\n",
    "\n",
    "try:\n",
    "    pontuacao = float(input(\"Digite a pontuação do jogador: \"))\n",
    "    classificacao = avaliar_desempenho(pontuacao)\n",
    "    print(\"Classificação: {}\".format(classificacao))\n",
    "except ValueError:\n",
    "    print(\"Erro! Insira um valor numérico válido para a pontuação.\")\n"
   ]
  },
  {
   "cell_type": "markdown",
   "id": "6cafaa50",
   "metadata": {},
   "source": [
    "### Q4.\n",
    "\n",
    "Você está implementando um sistema de desconto em uma loja online. Escreva um programa em Python que calcula o desconto com base no valor total da compra e atribui diferentes níveis de desconto de acordo com as seguintes condições:\n",
    "\n",
    "- Se o valor total da compra for menor que R\\$ 50, não há desconto.\n",
    "- Se o valor total da compra for maior ou igual a R\\$ 50, atribua um desconto de 10%.\n",
    "- Se o valor total da compra for maior ou igual a R\\$ 100, atribua um desconto de 20%.\n",
    "\n",
    "\n",
    "Seguem alguns exemplos de interação com seu código no terminal. Preste atenção na formatação esperada para as saídas.\n",
    "\n",
    "```\n",
    "Digite o valor total da compra: 120\n",
    "Desconto aplicado: 20.0%\n",
    "Valor final com desconto: R$96.00\n",
    "```\n",
    "\n",
    "```\n",
    "Digite o valor total da compra: 65\n",
    "Desconto aplicado: 10.0%\n",
    "Valor final com desconto: R$58.50\n",
    "```\n",
    "\n",
    "```\n",
    "Digite o valor total da compra: 40\n",
    "Desconto aplicado: 0.0%\n",
    "Valor final com desconto: R$40.00\n",
    "```\n",
    "\n",
    "\n"
   ]
  },
  {
   "cell_type": "code",
   "execution_count": 5,
   "id": "3b1b1929",
   "metadata": {},
   "outputs": [
    {
     "name": "stdout",
     "output_type": "stream",
     "text": [
      "Desconto aplicado: 20.0%\n",
      "Valor final com desconto: R$168.00\n"
     ]
    }
   ],
   "source": [
    "## Escreva e execute seu código aqui\n",
    "def calcular_desconto(valor_compra):\n",
    "    if valor_compra < 50:\n",
    "        desconto = 0\n",
    "    elif valor_compra >= 50 and valor_compra < 100:\n",
    "        desconto = 0.1\n",
    "    else:\n",
    "        desconto = 0.2\n",
    "\n",
    "    valor_final = valor_compra * (1 - desconto)\n",
    "    return desconto, valor_final\n",
    "\n",
    "def main():\n",
    "    try:\n",
    "        valor_compra = float(input(\"Digite o valor total da compra: R$\"))\n",
    "        desconto, valor_final = calcular_desconto(valor_compra)\n",
    "        print(f\"Desconto aplicado: {desconto * 100:.1f}%\")\n",
    "        print(\"Valor final com desconto: R${}\".format(valor_final))\n",
    "    except ValueError:\n",
    "        print(\"Valor inválido. Certifique-se de digitar um número válido.\")\n",
    "\n",
    "if __name__ == \"__main__\":\n",
    "    main()\n"
   ]
  },
  {
   "cell_type": "markdown",
   "id": "dc5db6d7",
   "metadata": {},
   "source": [
    "### Q5.\n",
    "\n",
    "Você está projetando um sistema de autenticação baseado na análise da íris (parte colorida do olho). Ao acionado, o sistema coleta e retorna 3 valores inteiros referentes a atributos da íris visível. Mas o sistema não é perfeito, tendo uma margem de erro do sensor de +/- $5$. \n",
    "\n",
    "O código abaixo tem os atributos dos 4 usuários cadastrados no sistema. Você deve completar om código, pedindo ao usuário para inserir uma nova leitura de padrão de íris. O programa deve comparar o padrão inserido com os padrões cadastrados no banco de dados. Se o padrão estiver dentro da tolerância estabelecida, o usuário é autenticado com sucesso. Caso contrário, a autenticação falha.\n",
    "\n",
    "**Dica:** A função do python ```abs()``` retorna o valor absoluto de um elemento. Ex: \n",
    "```\n",
    ">>> print(abs(987-982))\n",
    "5\n",
    ">>> print(abs(987-992))\n",
    "5\n",
    "```\n",
    "\n",
    "Seguem alguns exemplos de interação com seu código no terminal.\n",
    "\n",
    "```\n",
    "Insira o padrão de íris para autenticação.\n",
    "Atributo 1: 111\n",
    "Atributo 2: 222\n",
    "Atributo 3: 333\n",
    "Autenticação bem-sucedida! \n",
    "Usuário: 3\n",
    "```\n",
    "\n",
    "```\n",
    "Insira o padrão de íris para autenticação.\n",
    "Atributo 1: 111\n",
    "Atributo 2: 200\n",
    "Atributo 3: 333\n",
    "Autenticação falhou! \n",
    "```\n",
    "\n",
    "```\n",
    "Insira o padrão de íris para autenticação.\n",
    "Atributo 1: 982\n",
    "Atributo 2: 653\n",
    "Atributo 3: 324\n",
    "Autenticação bem-sucedida! \n",
    "Usuário: 2\n",
    "```"
   ]
  },
  {
   "cell_type": "code",
   "execution_count": 8,
   "id": "b90304eb",
   "metadata": {},
   "outputs": [
    {
     "name": "stdout",
     "output_type": "stream",
     "text": [
      "Autenticação bem-sucedida! Usuário: 1\n"
     ]
    }
   ],
   "source": [
    "## Não altere os atributos definidos a seguir\n",
    "iris1_a1, iris1_a2, iris1_a3 = 123, 456, 789\n",
    "iris2_a1, iris2_a2, iris2_a3 = 987, 654, 321\n",
    "iris3_a1, iris3_a2, iris3_a3 = 111, 222, 333\n",
    "iris4_a1, iris4_a2, iris4_a3 = 444, 555, 666\n",
    "\n",
    "## Escreva e execute seu código aqui\n",
    "def autenticar_usuario(atributo1, atributo2, atributo3):\n",
    "    \n",
    "    tolerancia = 5\n",
    "\n",
    "    \n",
    "    diff1 = abs(atributo1 - iris1_a1)\n",
    "    diff2 = abs(atributo2 - iris1_a2)\n",
    "    diff3 = abs(atributo3 - iris1_a3)\n",
    "\n",
    "   \n",
    "    if diff1 <= tolerancia and diff2 <= tolerancia and diff3 <= tolerancia:\n",
    "        return \"Autenticação bem-sucedida! Usuário: 1\"\n",
    "    \n",
    "    return \"Autenticação falhou!\"\n",
    "\n",
    "def main():\n",
    "    try:\n",
    "        atributo1 = int(input(\"Insira o padrão de íris para autenticação. Atributo 1: \"))\n",
    "        atributo2 = int(input(\"Atributo 2: \"))\n",
    "        atributo3 = int(input(\"Atributo 3: \"))\n",
    "        resultado = autenticar_usuario(atributo1, atributo2, atributo3)\n",
    "        print(resultado)\n",
    "    except ValueError:\n",
    "        print(\"Valores inválidos. Certifique-se de inserir números inteiros válidos.\")\n",
    "\n",
    "if __name__ == \"__main__\":\n",
    "    main()"
   ]
  }
 ],
 "metadata": {
  "kernelspec": {
   "display_name": "Python 3 (ipykernel)",
   "language": "python",
   "name": "python3"
  },
  "language_info": {
   "codemirror_mode": {
    "name": "ipython",
    "version": 3
   },
   "file_extension": ".py",
   "mimetype": "text/x-python",
   "name": "python",
   "nbconvert_exporter": "python",
   "pygments_lexer": "ipython3",
   "version": "3.12.3"
  }
 },
 "nbformat": 4,
 "nbformat_minor": 5
}
