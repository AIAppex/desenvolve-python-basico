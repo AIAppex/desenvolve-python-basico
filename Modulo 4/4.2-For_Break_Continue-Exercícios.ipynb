{
 "cells": [
  {
   "cell_type": "markdown",
   "id": "29e89030",
   "metadata": {},
   "source": [
    "# Módulo 4 - Repetições\n",
    "\n",
    "## Aulas 4.2 - Comando ```for``` e 4.3 Break e Continue"
   ]
  },
  {
   "cell_type": "markdown",
   "id": "a45b42df",
   "metadata": {},
   "source": [
    "### Q1.\n",
    "\n",
    "Crie um programa em Python que utilize o comando for para imprimir os números de 10 a 1, em ordem decrescente."
   ]
  },
  {
   "cell_type": "code",
   "execution_count": 1,
   "id": "55a75b3d",
   "metadata": {},
   "outputs": [
    {
     "name": "stdout",
     "output_type": "stream",
     "text": [
      "10\n",
      "9\n",
      "8\n",
      "7\n",
      "6\n",
      "5\n",
      "4\n",
      "3\n",
      "2\n",
      "1\n"
     ]
    }
   ],
   "source": [
    "## Escreva e execute seu código aqui\n",
    "for numero in range(10, 0, -1):\n",
    "    print(numero)\n"
   ]
  },
  {
   "cell_type": "markdown",
   "id": "94b47c36",
   "metadata": {},
   "source": [
    "### Q2.\n",
    "\n",
    "Dado um número inteiro positivo informado pelo usuário, crie um programa em Python que utilize o comando for para calcular e exibir a soma dos números de 1 até o número informado. Ou seja, $1 + 2 + 3 + ... + n$\n",
    "\n",
    "Exemplo de interação:\n",
    "```\n",
    "Digite um número: 5\n",
    "A soma dos números de 1 a 5 é 15\n",
    "```\n"
   ]
  },
  {
   "cell_type": "code",
   "execution_count": 3,
   "id": "45b71596",
   "metadata": {},
   "outputs": [
    {
     "name": "stdout",
     "output_type": "stream",
     "text": [
      "A soma dos números de 1 a 7 é 28\n"
     ]
    }
   ],
   "source": [
    "## Escreva e execute seu código aqui\n",
    "numero = int(input('Digite um número inteiro positivo: '))\n",
    "soma = 0\n",
    "\n",
    "for i in range(1, numero + 1):\n",
    "    soma += i\n",
    "\n",
    "print('A soma dos números de 1 a {} é {}'.format(numero, soma))\n"
   ]
  },
  {
   "cell_type": "markdown",
   "id": "0411d170",
   "metadata": {},
   "source": [
    "### Q3.\n",
    "\n",
    "Escreva um programa que lê 10 valores inteiros positivos do usuário e ao final imprime a média dos valores digitados com duas casas decimais.\n",
    "\n",
    "```\n",
    "Digite 10 números positivos:\n",
    "3\n",
    "2\n",
    "12\n",
    "14\n",
    "20\n",
    "42\n",
    "19\n",
    "0\n",
    "8\n",
    "1\n",
    "A média dos valores digitados é 12.10\n",
    "```"
   ]
  },
  {
   "cell_type": "code",
   "execution_count": 4,
   "id": "3f72f358",
   "metadata": {},
   "outputs": [
    {
     "name": "stdout",
     "output_type": "stream",
     "text": [
      "A média dos valores digitados é 2.9\n"
     ]
    }
   ],
   "source": [
    "## Escreva e execute seu código aqui\n",
    "\n",
    "soma = 0\n",
    "\n",
    "for _ in range(10):\n",
    "    numero = int(input('Digite um número positivo: '))\n",
    "    soma += numero\n",
    "\n",
    "media = soma / 10\n",
    "print('A média dos valores digitados é {}'.format(media))\n"
   ]
  },
  {
   "cell_type": "markdown",
   "id": "d62e27ff",
   "metadata": {},
   "source": [
    "### Q4.\n",
    "\n",
    "Você vai criar um sistema que registra os resultados dos jogos do Atlético MG ao longo de um campeonato. Seu sistema vai receber os resultados de todos os jogos do Galo, e deve calcular a pontuação do time sabendo que vitórias valem 3 pontos, empates 1 ponto e derrotas 0 pontos.\n",
    "\n",
    "Entrada: <br>\n",
    "A primeira linha de entrada é um inteiro N com a quantidade jogos do galo. Para cada jogo você deve ler 2 inteiros, o primeiro com a quantidade de gols do galo e o segundo com a quantidade de gols do time oponente. \n",
    "\n",
    "Saída: <br>\n",
    "Apresente a soma de vitórias, empates e derrotas do galo, junto com o cálculo da pontuação total.\n",
    "\n",
    "Ex:\n",
    "```\n",
    "Entrada:\n",
    "4\n",
    "2\n",
    "0\n",
    "1\n",
    "1\n",
    "0\n",
    "3\n",
    "1\n",
    "0\n",
    "\n",
    "Saída:\n",
    "Vitórias: 2\n",
    "Empates: 1\n",
    "Derrotas: 1\n",
    "Pontuação: 7\n",
    "\n",
    "```\n",
    "\n",
    "\n"
   ]
  },
  {
   "cell_type": "code",
   "execution_count": 4,
   "id": "d3fdfc2a",
   "metadata": {},
   "outputs": [
    {
     "name": "stdout",
     "output_type": "stream",
     "text": [
      "Vitórias: 2\n",
      "Empates: 0\n",
      "Derrotas: 1\n",
      "Pontuação: 6\n"
     ]
    }
   ],
   "source": [
    "## Escreva e execute seu código aqui\n",
    "\n",
    "N = int(input('Digite a quantidade de partidas: '))\n",
    "vitorias = empates = derrotas = 0\n",
    "\n",
    "for _ in range(N):\n",
    "    gols_galo, gols_oponente = map(int, input('Digite os resultados (ex: 3 1): ').split())\n",
    "    if gols_galo > gols_oponente:\n",
    "        vitorias += 1\n",
    "    elif gols_galo == gols_oponente:\n",
    "        empates += 1\n",
    "    else:\n",
    "        derrotas += 1\n",
    "pontuacao = 3 * vitorias + empates\n",
    "\n",
    "print('Vitórias: {}'.format(vitorias))\n",
    "print('Empates: {}'.format(empates))\n",
    "print('Derrotas: {}'.format(derrotas))\n",
    "print('Pontuação: {}'.format(pontuacao))\n"
   ]
  },
  {
   "cell_type": "markdown",
   "id": "fc98604d",
   "metadata": {},
   "source": [
    "### Q5.\n",
    "\n",
    "Faça um programa que lê dois inteiros N e M, e imprime na tela um campo de batalha naval. O tabuleiro deve possuir N linhas e M colunas. A primeira linha é composta por um espaço em branco e o cabeçalho das colunas, ou seja, valores de 1 a M. As N linhas seguintes iniciam com o cabeçalho da linha, ou seja, seu número, seguido de M caracteres \"/\" (barra) indicando uma possível posição jogável. \n",
    "\n",
    "```\n",
    "Entrada:\n",
    "5\n",
    "4\n",
    "\n",
    "Saída:\n",
    "  1 2 3 4 \n",
    "1 / / / / \n",
    "2 / / / / \n",
    "3 / / / / \n",
    "4 / / / / \n",
    "5 / / / / \n",
    "```\n",
    "\n",
    "Para esse exercício, precisamos lembrar que o comando print implicitamente adiciona uma quebra de linha ao final da impressão. Podemos interferir no final da impressão adicionando mais uma entrada ao print. No exemplo, finalizamos cada linha com um espaço em branco:\n",
    "```python\n",
    "print(\"Texto qualquer\", end = \" \")\n",
    "```"
   ]
  },
  {
   "cell_type": "code",
   "execution_count": 6,
   "id": "a60ef197",
   "metadata": {},
   "outputs": [
    {
     "name": "stdout",
     "output_type": "stream",
     "text": [
      "1 2 3 4 5 6 7 8 \n",
      "1////////\n",
      "2////////\n",
      "3////////\n",
      "4////////\n",
      "5////////\n",
      "6////////\n",
      "7////////\n",
      "8////////\n"
     ]
    }
   ],
   "source": [
    "## Escreva e execute seu código aqui\n",
    "N = int(input('Digite o número de linhas (N): '))\n",
    "M = int(input('Digite o número de colunas (M): '))\n",
    "\n",
    " \n",
    "print('', end='')\n",
    "for col in range(1, M + 1):\n",
    "    print(col, end=\" \")\n",
    "print() \n",
    "\n",
    "for row in range(1, N + 1):\n",
    "    print(row, end='') \n",
    "    for _ in range(M):\n",
    "        print(\"/\", end='')  \n",
    "    print()"
   ]
  },
  {
   "cell_type": "markdown",
   "id": "4654dc0b",
   "metadata": {},
   "source": [
    "---\n",
    "## Break e Continue"
   ]
  },
  {
   "cell_type": "markdown",
   "id": "24fe9d85",
   "metadata": {},
   "source": [
    "### Q6.\n",
    "\n",
    "Escreva um programa que lê uma quantidade indefinida de valores e informa o maior e o menor valor digitados. A leitura é encerrada quando o usuário digitar o valor 0 (zero).\n",
    "\n",
    "```\n",
    "Entrada:\n",
    "12\n",
    "-1\n",
    "29\n",
    "11\n",
    "-5\n",
    "0\n",
    "\n",
    "Saída:\n",
    "Maior: 29\n",
    "Menor: -5\n",
    "```"
   ]
  },
  {
   "cell_type": "code",
   "execution_count": 10,
   "id": "ee1c466a",
   "metadata": {},
   "outputs": [
    {
     "name": "stdout",
     "output_type": "stream",
     "text": [
      "Maior: 21\n",
      "Menor: 9\n"
     ]
    }
   ],
   "source": [
    "## Escreva e execute seu código aqui\n",
    "valores = []  \n",
    "while True:\n",
    "    valor = int(input('Digite um valor (ou 0 para encerrar): '))\n",
    "    if valor == 0:\n",
    "        break  \n",
    "    valores.append(valor) \n",
    "\n",
    "if valores: \n",
    "        maior = max(valores)\n",
    "        menor = min(valores)\n",
    "        print('Maior: {}'.format(maior))\n",
    "        print('Menor: {}'.format(menor))\n",
    "else:\n",
    "        print('Nenhum valor foi digitado.')"
   ]
  },
  {
   "cell_type": "markdown",
   "id": "30d486f7",
   "metadata": {},
   "source": [
    "### Q7.\n",
    "\n",
    "Escreva um programa que lê uma quantidade indefinida de valores e informa o **produto** dos valores positivos digitados. A leitura é encerrada quando o usuário digitar o valor 0 (zero).\n",
    "\n",
    "```\n",
    "Entrada:\n",
    "2\n",
    "-1\n",
    "1\n",
    "3\n",
    "-5\n",
    "0\n",
    "\n",
    "Saída:\n",
    "Produto: 6\n",
    "```"
   ]
  },
  {
   "cell_type": "code",
   "execution_count": 15,
   "id": "2f1ac324",
   "metadata": {},
   "outputs": [
    {
     "name": "stdout",
     "output_type": "stream",
     "text": [
      "Produto: 10\n"
     ]
    }
   ],
   "source": [
    "## Escreva e execute seu código aqui\n",
    "produto = 0 \n",
    "while True:\n",
    "    valor = int(input('Digite um valor (ou 0 para encerrar): '))\n",
    "    if valor == 0:\n",
    "        break  \n",
    "    if valor > 0:\n",
    "        produto += valor \n",
    "\n",
    "if produto != 1:\n",
    "    print('Produto: {}'.format(produto))\n",
    "else:\n",
    "    print('Nenhum valor positivo foi digitado.')"
   ]
  },
  {
   "cell_type": "markdown",
   "id": "e932f3cf",
   "metadata": {},
   "source": [
    "### Q8.\n",
    "\n",
    "Vamos fazer uma calculadora que aceita expressões aritméticas de qualquer tamanho até que o usuário digite a palavra \"Fim\". Sua calculadora executa apenas as operações \"+\", \"-\".\n",
    "\n",
    "```\n",
    "Entrada:\n",
    "5\n",
    "+\n",
    "8\n",
    "-\n",
    "3\n",
    "+\n",
    "2\n",
    "Fim\n",
    "\n",
    "Saída:\n",
    "12\n",
    "```"
   ]
  },
  {
   "cell_type": "code",
   "execution_count": 22,
   "id": "e835d870",
   "metadata": {},
   "outputs": [
    {
     "name": "stdout",
     "output_type": "stream",
     "text": [
      "Resultado final: 6.0\n"
     ]
    }
   ],
   "source": [
    "## Escreva e execute seu código aqui\n",
    "resultado = 0\n",
    "operacao = \"+\"\n",
    "\n",
    "while True:\n",
    "    entrada = input(\"Digite um número ou 'Fim' para encerrar: \")\n",
    "\n",
    "    if entrada.lower() == 'fim':\n",
    "        break\n",
    "\n",
    "    try:\n",
    "        numero = float(entrada)\n",
    "    except ValueError:\n",
    "        print(\"Entrada inválida. Digite um número ou 'Fim'.\")\n",
    "        continue\n",
    "\n",
    "    if operacao == '+':\n",
    "        resultado += numero\n",
    "    elif operacao == '-':\n",
    "        resultado -= numero\n",
    "    else:\n",
    "        print('Operação inválida. Use '+' ou '-'.')\n",
    "\n",
    "    operacao = input('Digite a próxima operação (+ ou -): ')\n",
    "\n",
    "print('Resultado final: {}'.format(resultado))"
   ]
  }
 ],
 "metadata": {
  "kernelspec": {
   "display_name": "Python 3 (ipykernel)",
   "language": "python",
   "name": "python3"
  },
  "language_info": {
   "codemirror_mode": {
    "name": "ipython",
    "version": 3
   },
   "file_extension": ".py",
   "mimetype": "text/x-python",
   "name": "python",
   "nbconvert_exporter": "python",
   "pygments_lexer": "ipython3",
   "version": "3.12.3"
  }
 },
 "nbformat": 4,
 "nbformat_minor": 5
}
