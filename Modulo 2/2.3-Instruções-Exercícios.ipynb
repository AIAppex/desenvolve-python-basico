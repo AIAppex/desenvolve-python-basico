{
  "cells": [
    {
      "cell_type": "markdown",
      "metadata": {
        "id": "1pCTdOHonv5f"
      },
      "source": [
        "# Módulo 2\n",
        "\n",
        "## 2.3 Instruções e Expressões\n",
        "\n",
        "### Q1\n",
        "\n",
        "Faça um programa que armazene o valor de 20 reais de salário por hora de um trabalhador, e o número de 40 horas trabalhadas na semana. Com essas informações, calcule e imprima:\n",
        "- Salário semanal bruto\n",
        "- Valor descontado por semana INSS (10% do bruto)\n",
        "- Valor descontado por semana pelo sindicato (5% do bruto)\n",
        "- Salário semanal líquido (Bruto - Descontos)"
      ]
    },
    {
      "cell_type": "code",
      "execution_count": 1,
      "metadata": {
        "id": "hVbX0I97nj6M"
      },
      "outputs": [
        {
          "name": "stdout",
          "output_type": "stream",
          "text": [
            "O salario bruto é 800. O valor do inss é igual à 80.0, ja o do sindicato é 40.0. Sendo assim seu salario líquido é 680.0\n"
          ]
        }
      ],
      "source": [
        "## Escreva e execute seu código aqui\n",
        "salario = 20\n",
        "horas_trabalhadas = 40\n",
        "\n",
        "sal_bruto = salario * horas_trabalhadas\n",
        "inss = 0.10 * sal_bruto\n",
        "sindicato = 0.05 * sal_bruto\n",
        "sal_liquido = sal_bruto - (inss + sindicato)\n",
        "\n",
        "print('O salario bruto é {}. O valor do inss é igual à {}, ja o do sindicato é {}. Sendo assim seu salario líquido é {}'.format(sal_bruto, inss, sindicato,sal_liquido))"
      ]
    },
    {
      "cell_type": "markdown",
      "metadata": {
        "id": "pIxKX9J2oGZ1"
      },
      "source": [
        "### Q2\n",
        "\n",
        "Altere o programa anterior para a partir dos valores de horas trabalhadas por semana e salário por hora, calcular **em somente duas instruções**:\n",
        "- Salário semanal bruto\n",
        "- Salário semanal líquido com todos os descontos. Para a segunda instrução, realize todos os cálculos aritméticos em uma expressão composta.\n"
      ]
    },
    {
      "cell_type": "code",
      "execution_count": 2,
      "metadata": {
        "id": "pAHw9Xf9oGoi"
      },
      "outputs": [
        {
          "name": "stdout",
          "output_type": "stream",
          "text": [
            "Salário bruto: R$800.00\n",
            "Salário líquido com descontos: R$680.00\n"
          ]
        }
      ],
      "source": [
        "## Escreva e execute seu código aqui\n",
        "salario = 20\n",
        "horas_trabalhadas = 40\n",
        "\n",
        "sal_bruto = salario * horas_trabalhadas\n",
        "descontos = 0.10 * sal_bruto + 0.05 * sal_bruto\n",
        "sal_liquido = sal_bruto - descontos\n",
        "\n",
        "print(f\"Salário bruto: R${sal_bruto:.2f}\")\n",
        "print(f\"Salário líquido com descontos: R${sal_liquido:.2f}\")"
      ]
    },
    {
      "cell_type": "markdown",
      "metadata": {
        "id": "m8tlHRuWpBOB"
      },
      "source": [
        "### Q3\n",
        "\n",
        "Você está desenvolvendo um software de conversão de moeda e precisa calcular o valor equivalente em yuan chinês a partir de uma quantia em real. A taxa de câmbio é de 0.69 BRL (real) para 1 CNY (yuan). Escreva um programa que define em uma variável uma quantia em reais (BRL) e calcula o valor equivalente em yuan (CNY). Imprima o resultado."
      ]
    },
    {
      "cell_type": "code",
      "execution_count": 2,
      "metadata": {
        "id": "2bPw7uF6oeL9"
      },
      "outputs": [
        {
          "name": "stdout",
          "output_type": "stream",
          "text": [
            "Valor equivalente em yuan: 34.5\n"
          ]
        }
      ],
      "source": [
        "## Escreva e execute seu código aqui\n",
        "cambio = 0.69\n",
        "\n",
        "\n",
        "quantia_brl = float(input(\"Digite a quantia em reais (BRL): \"))\n",
        "valor_equivalente = quantia_brl * cambio\n",
        "\n",
        "print(\"Valor equivalente em yuan: {}\".format(valor_equivalente))\n"
      ]
    },
    {
      "cell_type": "markdown",
      "metadata": {
        "id": "-Na3ltDCp74A"
      },
      "source": [
        "### Q4\n",
        "\n",
        "Você é um treinador de corrida e deseja calcular a velocidade média que um atleta precisa manter para completar a Maratona Internacional de São Silvestre, que tem uma distância total de 42.195 km. A fórmula para calcular a velocidade média ($v\\_media$) é dada por $v\\_media = \\frac{distancia}{tempo}$ . Escreva um programa em Python para calcular a velocidade média necessária para completar a maratona em 3 horas.\n",
        "\n",
        "**Calcule e imprima o resultado em metros/segundo**, ou seja, converta a distância de quilômetros para metros ($metro = \\frac{km}{1000}$) e a velocidade de horas para segundos $(segundo = \\frac{hora}{3600})$."
      ]
    },
    {
      "cell_type": "code",
      "execution_count": 1,
      "metadata": {
        "id": "Bn6l8kcSrE4L"
      },
      "outputs": [
        {
          "name": "stdout",
          "output_type": "stream",
          "text": [
            "Velocidade media 3.9069444444444446 m/s\n"
          ]
        }
      ],
      "source": [
        "## Escreva e execute seu código aqui\n",
        "distancia = 42.195\n",
        "\n",
        "distancia_m = distancia * 1000\n",
        "\n",
        "tempo = 3\n",
        "\n",
        "tempo_s = tempo * 3600\n",
        "\n",
        "velocidade_m = distancia_m / tempo_s\n",
        "\n",
        "print('Velocidade media {} m/s'.format(velocidade_m))\n"
      ]
    }
  ],
  "metadata": {
    "colab": {
      "provenance": []
    },
    "kernelspec": {
      "display_name": "Python 3",
      "name": "python3"
    },
    "language_info": {
      "codemirror_mode": {
        "name": "ipython",
        "version": 3
      },
      "file_extension": ".py",
      "mimetype": "text/x-python",
      "name": "python",
      "nbconvert_exporter": "python",
      "pygments_lexer": "ipython3",
      "version": "3.12.3"
    }
  },
  "nbformat": 4,
  "nbformat_minor": 0
}
