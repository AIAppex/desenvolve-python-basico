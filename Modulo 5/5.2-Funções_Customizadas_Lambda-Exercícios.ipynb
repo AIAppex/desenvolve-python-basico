{
 "cells": [
  {
   "cell_type": "markdown",
   "id": "cbdff5a5",
   "metadata": {},
   "source": [
    "# Módulo 5 - Funções\n",
    "\n",
    "## Aulas 5.2 - Funções Customizadas e 5.4 Funções ```lambda```"
   ]
  },
  {
   "cell_type": "markdown",
   "id": "28a3fee2",
   "metadata": {},
   "source": [
    "### Q1.\n",
    "\n",
    "- Sabendo que o código a seguir calcula o fatorial de n, escreva uma função chamada ```fatorial()``` que recebe um inteiro ```n``` como parâmetro e retorna o resultado do fatorial de ```n```. \n",
    "- No programa principal, peça ao usuário o valor de ```n```, chame a sua função e imprima o retorno.\n",
    "\n",
    "```python\n",
    "fat = 1\n",
    "for i in range(1, n+1):\n",
    "    fat *= i \n",
    "```"
   ]
  },
  {
   "cell_type": "code",
   "execution_count": 2,
   "id": "d126b3a5",
   "metadata": {},
   "outputs": [],
   "source": [
    "## Crie aqui a função fatorial()\n",
    "## lembre-se de executar a célula para que \n",
    "## a função passe a existir e possa ser chamada\n",
    "\n",
    "def fatorial(n):\n",
    "    fat = 1\n",
    "    for i in range(1, n+1):\n",
    "        fat *= i\n",
    "    return fat\n"
   ]
  },
  {
   "cell_type": "code",
   "execution_count": 3,
   "id": "6e4fe64e",
   "metadata": {},
   "outputs": [
    {
     "name": "stdout",
     "output_type": "stream",
     "text": [
      "O fatorial de 20 é 2432902008176640000\n"
     ]
    }
   ],
   "source": [
    "## Escreva aqui o programa principal e execute a célula\n",
    "try:\n",
    "    n = int(input(\"Digite um número inteiro: \"))\n",
    "    result = fatorial(n)\n",
    "    print('O fatorial de {} é {}'.format(n, result))\n",
    "except ValueError:\n",
    "    print('Por favor, digite um valor inteiro válido.')"
   ]
  },
  {
   "cell_type": "markdown",
   "id": "c0a1f599",
   "metadata": {},
   "source": [
    "### Q2.\n",
    "\n",
    "- Escreva uma função em Python chamada ```soma_quadrados``` que recebe dois números como parâmetros e retorna a soma dos seus quadrados. \n",
    "- No programa principal solicite ao usuário que insira dois números e utilize a função para exibir a soma dos quadrados."
   ]
  },
  {
   "cell_type": "code",
   "execution_count": 9,
   "id": "6dbddaad",
   "metadata": {},
   "outputs": [],
   "source": [
    "## Crie aqui a função soma_quadrados()\n",
    "def soma_quadrados(p1, p2):\n",
    "    return p1**2 + p2**2"
   ]
  },
  {
   "cell_type": "code",
   "execution_count": 10,
   "id": "9175a7da",
   "metadata": {},
   "outputs": [
    {
     "name": "stdout",
     "output_type": "stream",
     "text": [
      "A soma é 500.0\n"
     ]
    }
   ],
   "source": [
    "## Escreva aqui o programa principal e execute a célula\n",
    "try:\n",
    "    p1 = float(input('Digite o primeiro valor: '))\n",
    "    p2 = float(input('Digite o segundo valor: '))\n",
    "    result = soma_quadrados(p1, p2)\n",
    "\n",
    "    print('A soma é {}'.format(result))\n",
    "except ValueError:\n",
    "    print('Números invalidos')"
   ]
  },
  {
   "cell_type": "markdown",
   "id": "6ba34ce0",
   "metadata": {},
   "source": [
    "### Q3.\n",
    "\n",
    "- Crie uma função em Python chamada ```soma_digitos``` que recebe um número inteiro como parâmetro e retorna a soma dos seus dígitos. Por exemplo, para o número 123, a função deve retornar 6, $(1 + 2 + 3)$.\n",
    "    - O desafio aqui é separar os dígitos de um número inteiro usando operações aritméticas <br> <br>\n",
    "\n",
    "- No programa principal solicite ao usuário que insira um número e utilize a função ```soma_digitos``` para calcular e exibir a soma dos seus dígitos."
   ]
  },
  {
   "cell_type": "code",
   "execution_count": 11,
   "id": "34838ebf",
   "metadata": {},
   "outputs": [],
   "source": [
    "## Crie aqui a função soma_digitos()\n",
    "def soma_digitos(n):\n",
    "    soma = 0\n",
    "    numero_absoluto = abs(n) \n",
    "    while numero_absoluto > 0:\n",
    "        digito = numero_absoluto % 10\n",
    "        soma += digito\n",
    "        numero_absoluto //= 10\n",
    "    return soma"
   ]
  },
  {
   "cell_type": "code",
   "execution_count": 18,
   "id": "27c35b21",
   "metadata": {},
   "outputs": [
    {
     "name": "stdout",
     "output_type": "stream",
     "text": [
      "A soma dos dígitos é 26\n"
     ]
    }
   ],
   "source": [
    "## Escreva aqui o programa principal e execute a célula\n",
    "try:\n",
    "    numero = int(input('Digite um número inteiro: '))\n",
    "    result = soma_digitos(numero)\n",
    "    print('A soma dos dígitos é {}'.format(result))\n",
    "except ValueError:\n",
    "    print('Digite um valor inteiro válido.')"
   ]
  },
  {
   "cell_type": "markdown",
   "id": "c318b159",
   "metadata": {},
   "source": [
    "### Q4.\n",
    "\n",
    "- Crie a função ```inverteValor()``` que recebe um inteiro de qualquer tamanho e retorna esse valor invertido usando apenas operações aritméticas\n",
    "- Crie a função ```verificaInverso()``` que recebe o valor original e o valor invertido e retorna verdadeiro se ambos forem igualmente par ou igualmente ímpar. Retorne falso caso contrário.\n",
    "- No programa principal, peça um valor do usuário e imprima o retorno de ambas as funções.\n"
   ]
  },
  {
   "cell_type": "code",
   "execution_count": 19,
   "id": "e4e47d1d",
   "metadata": {},
   "outputs": [],
   "source": [
    "## Crie aqui as funções inverteValor() e verificaInverso()\n",
    "def inverteValor(n):\n",
    "    valor_invertido = 0\n",
    "    numero_absoluto = abs(n) \n",
    "\n",
    "    while numero_absoluto > 0:\n",
    "        digito = numero_absoluto % 10\n",
    "        valor_invertido = valor_invertido * 10 + digito\n",
    "        numero_absoluto //= 10\n",
    "\n",
    "   \n",
    "    if numero < 0:\n",
    "        valor_invertido *= -1\n",
    "\n",
    "    return valor_invertido\n",
    "\n",
    "def verificaInverso(original, invertido):\n",
    "    return (original % 2 == invertido % 2)\n"
   ]
  },
  {
   "cell_type": "code",
   "execution_count": 20,
   "id": "a9514e56",
   "metadata": {},
   "outputs": [
    {
     "name": "stdout",
     "output_type": "stream",
     "text": [
      "Valor invertido: 33\n",
      "Ambos são igualmente pares ou igualmente ímpares.\n"
     ]
    }
   ],
   "source": [
    "## Escreva aqui o programa principal e execute a célula\n",
    "try:\n",
    "    valor_original = int(input('Digite um número: '))\n",
    "    valor_invertido = inverteValor(valor_original)\n",
    "\n",
    "    print(f\"Valor invertido: {valor_invertido}\")\n",
    "    if verificaInverso(valor_original, valor_invertido):\n",
    "        print('Ambos são igualmente pares ou igualmente ímpares.')\n",
    "    else:\n",
    "        print('Não possuem a mesma paridade.')\n",
    "\n",
    "except ValueError:\n",
    "    print('Digite um valor inteiro válido.')"
   ]
  },
  {
   "cell_type": "markdown",
   "id": "329be966",
   "metadata": {},
   "source": [
    "### Q5.\n",
    "\n",
    "Você está desenvolvendo um programa para auxiliar em cálculos de geometria básica. Crie as seguintes funções:\n",
    "- A função ```calcula_perimetro_triangulo()``` que recebe três inteiros correspondentes aos lados de um triângulo e retorna o perímetro do triângulo, ou seja, a soma dos seus lados.\n",
    "- A função ```calcula_perimetro_circulo()``` que recebe um inteiro referente ao raio do círculo e retorna o perímetro do círculo, dado por $2 \\pi r$. Use a constante $\\pi$ da biblioteca ```math```.\n",
    "- A função ```calcula_perimetro_retangulo()``` que possui um parâmetro obrigatório ```lado1``` e um opcional ```lado2```, ambos inteiros. Se o valor opcional não for fornecido, significa que se trata de um quadrado. Sua função deve calcular e retornar o perímetro do retângulo, ou seja, a soma de seus lados. \n",
    "    - Para o quadrado, é dado por $4 \\times lado1$\n",
    "    - Para o retângulo é dado por $2 \\times lado1 + 2 \\times lado2$\n",
    "    \n",
    "- No programa principal apresente um menu com as opções disponíveis do seu sistema e uma quarta opção ```Sair```. Solicite ao usuário a opção desejada, solicite as entradas correspondentes à opção escolhida, invoque a respective função e apresente o seu retorno. Seu programa deve retornar ao menu até que o usuário escolha a opção ```Sair```\n",
    "\n",
    "Exemplo de interação:\n",
    "```\n",
    "1 - Calcular perímetro triângulo\n",
    "2 - Calcular perímetro círculo\n",
    "3 - Calcular perímetro retângulo\n",
    "4 - Sair\n",
    "\n",
    "Opção: 1\n",
    "Digite os três lados do triângulo:\n",
    "3\n",
    "4\n",
    "5\n",
    "O perímetro é: 12\n",
    "\n",
    "1 - Calcular perímetro triângulo\n",
    "2 - Calcular perímetro círculo\n",
    "3 - Calcular perímetro retângulo\n",
    "4 - Sair\n",
    "\n",
    "Opção: 3\n",
    "Informe os dois lados do retângulo. Se for um quadrado, digite 0 para o segundo valor:\n",
    "5\n",
    "0\n",
    "O perímetro é: 20\n",
    "\n",
    "1 - Calcular perímetro triângulo\n",
    "2 - Calcular perímetro círculo\n",
    "3 - Calcular perímetro retângulo\n",
    "4 - Sair\n",
    "\n",
    "Opção: 4\n",
    "```"
   ]
  },
  {
   "cell_type": "code",
   "execution_count": 21,
   "id": "0793d328",
   "metadata": {},
   "outputs": [],
   "source": [
    "## Crie aqui as funções \n",
    "import math\n",
    "\n",
    "def calcula_perimetro_triangulo(lado1, lado2, lado3):\n",
    "    return lado1 + lado2 + lado3\n",
    "\n",
    "def calcula_perimetro_circulo(raio):\n",
    "    return 2 * math.pi * raio\n",
    "\n",
    "def calcula_perimetro_retangulo(lado1, lado2=0):\n",
    "    if lado2 == 0:\n",
    "        return 4 * lado1\n",
    "    else:\n",
    "        return 2 * (lado1 + lado2)\n"
   ]
  },
  {
   "cell_type": "code",
   "execution_count": 23,
   "id": "36269c71",
   "metadata": {},
   "outputs": [
    {
     "name": "stdout",
     "output_type": "stream",
     "text": [
      "1 - Calcular perímetro triângulo\n",
      "2 - Calcular perímetro círculo\n",
      "3 - Calcular perímetro retângulo\n",
      "4 - Sair\n",
      "O perímetro do triângulo é: 12\n",
      "1 - Calcular perímetro triângulo\n",
      "2 - Calcular perímetro círculo\n",
      "3 - Calcular perímetro retângulo\n",
      "4 - Sair\n",
      "Encerrando o programa. Até mais!\n"
     ]
    }
   ],
   "source": [
    "## Escreva aqui o programa principal \n",
    "def exibir_menu():\n",
    "    print('1 - Calcular perímetro triângulo')\n",
    "    print('2 - Calcular perímetro círculo')\n",
    "    print('3 - Calcular perímetro retângulo')\n",
    "    print('4 - Sair')\n",
    "\n",
    "\n",
    "while True:\n",
    "    exibir_menu()\n",
    "    opcao = int(input(\"\\nOpção: \"))\n",
    "\n",
    "    if opcao == 1:\n",
    "        lado1, lado2, lado3 = map(int, input('Digite os três lados do triângulo: ').split())\n",
    "        resultado = calcula_perimetro_triangulo(lado1, lado2, lado3)\n",
    "        print('O perímetro do triângulo é: {}'.format(resultado))\n",
    "    elif opcao == 2:\n",
    "        raio = int(input('Digite o raio do círculo: '))\n",
    "        resultado = calcula_perimetro_circulo(raio)\n",
    "        print('O perímetro do círculo é: {}'.format(resultado))\n",
    "    elif opcao == 3:\n",
    "        lado1 = int(input('Informe o primeiro lado do retângulo: '))\n",
    "        lado2 = int(input('Informe o segundo lado do retângulo (ou digite 0 para um quadrado): '))\n",
    "        resultado = calcula_perimetro_retangulo(lado1, lado2)\n",
    "        print('O perímetro do retângulo é: {}'.format(resultado))\n",
    "    elif opcao == 4:\n",
    "        print('Encerrando o programa. Até mais!')\n",
    "        break\n",
    "    else:\n",
    "        print('Opção inválida. Tente novamente.')"
   ]
  },
  {
   "cell_type": "markdown",
   "id": "3016bcc7",
   "metadata": {},
   "source": [
    "## Funções ```lambda```"
   ]
  },
  {
   "cell_type": "markdown",
   "id": "f9cdb8dd",
   "metadata": {},
   "source": [
    "### Q6.\n",
    "\n",
    "Crie uma função lambda para verificar se um número é par ou ímpar. Em seguida, solicite ao usuário um número indefinidos de valores (até que o usuário digite 0). Para cada valor de entrada, informe se é par ou ímpar.\n",
    "\n",
    "Exemplo de interação:\n",
    "```\n",
    "Digite os valores que deseja verificar a paridade (digite 0 para finalizar a entrada de dados):\n",
    "3\n",
    "ímpar\n",
    "8\n",
    "par\n",
    "12\n",
    "par\n",
    "5\n",
    "ímpar\n",
    "7ímpar\n",
    "```"
   ]
  },
  {
   "cell_type": "code",
   "execution_count": 24,
   "id": "e3c31a78",
   "metadata": {},
   "outputs": [
    {
     "name": "stdout",
     "output_type": "stream",
     "text": [
      "ímpar\n",
      "par\n",
      "ímpar\n",
      "par\n",
      "ímpar\n",
      "par\n",
      "Programa encerrado.\n"
     ]
    }
   ],
   "source": [
    "verificar = lambda x: \"par\" if x % 2 == 0 else \"ímpar\"\n",
    "\n",
    "while True:\n",
    "    valor = int(input('Digite um valor (digite 0 para finalizar a entrada de dados): '))\n",
    "    \n",
    "    if valor == 0:\n",
    "        print(\"Programa encerrado.\")\n",
    "        break\n",
    "    \n",
    "    resultado = verificar (valor)\n",
    "    print(resultado)"
   ]
  },
  {
   "cell_type": "markdown",
   "id": "5a87474d",
   "metadata": {},
   "source": [
    "### Q7.\n",
    "\n",
    "Escreva um programa que pergunte ao usuário qual operação ele deseja: maior ou menor.\n",
    "Em seguida leia uma quantidade indefinida de valores do usuário, até que o usuário digite o valor zero.\n",
    "Apresente ao final o maior ou menor dos valores digitados de acordo com a escolha do usuário.\n",
    "\n",
    "**Sua solução deve incluir pelo menos uma função ```lambda```** \n",
    "\n",
    "Exemplo de interação:\n",
    "```\n",
    "Opções: (1) maior ou (2) menor?\n",
    "Opção: 1\n",
    "\n",
    "Digite os valores de entrada. Digite 0 para finalizar a entrada de valores.\n",
    "4\n",
    "12\n",
    "15\n",
    "1\n",
    "0\n",
    "\n",
    "O maior valor é: 15\n",
    "```"
   ]
  },
  {
   "cell_type": "code",
   "execution_count": 25,
   "id": "ee3f68ca",
   "metadata": {},
   "outputs": [
    {
     "name": "stdout",
     "output_type": "stream",
     "text": [
      "O maior valor é: 15.0\n"
     ]
    }
   ],
   "source": [
    "## Escreva aqui o programa principal \n",
    "encontra_maior = lambda x, y: x if x > y else y\n",
    "encontra_menor = lambda x, y: x if x < y else y\n",
    "opcao = input('Opções: (1) maior ou (2) menor? ')\n",
    "valores = []  \n",
    "\n",
    "while True:\n",
    "    valor = float(input('Digite um valor (digite 0 para finalizar a entrada de valores): '))\n",
    "    \n",
    "    if valor == 0:\n",
    "        break\n",
    "    \n",
    "    valores.append(valor)\n",
    "\n",
    "if opcao == '1':\n",
    "    resultado = max(valores, key=lambda x: x)\n",
    "    print('O maior valor é: {}'.format(resultado))\n",
    "elif opcao == \"2\":\n",
    "    resultado = min(valores, key=lambda x: x)\n",
    "    print('O menor valor é: {}'.format(resultado))\n",
    "else:\n",
    "    print('Opção inválida. Escolha 1 para maior ou 2 para menor.')"
   ]
  }
 ],
 "metadata": {
  "kernelspec": {
   "display_name": "Python 3 (ipykernel)",
   "language": "python",
   "name": "python3"
  },
  "language_info": {
   "codemirror_mode": {
    "name": "ipython",
    "version": 3
   },
   "file_extension": ".py",
   "mimetype": "text/x-python",
   "name": "python",
   "nbconvert_exporter": "python",
   "pygments_lexer": "ipython3",
   "version": "3.12.3"
  }
 },
 "nbformat": 4,
 "nbformat_minor": 5
}
